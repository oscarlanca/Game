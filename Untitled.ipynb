{
 "cells": [
  {
   "cell_type": "code",
   "execution_count": 76,
   "id": "9470b026-ec9c-48b8-9be0-718a5b0fc26d",
   "metadata": {},
   "outputs": [],
   "source": [
    "import requests\n",
    "import csv\n",
    "import pandas as pd\n",
    "import numpy as np\n",
    "from itertools import islice\n"
   ]
  },
  {
   "cell_type": "code",
   "execution_count": 40,
   "id": "5253f69a-75a7-4e59-a1f9-f6557c12bd5f",
   "metadata": {},
   "outputs": [
    {
     "data": {
      "text/plain": [
       "\"import requests\\nimport csv\\nsheets = {'sheet_1' : 'https://docs.google.com/spreadsheets/d/14HyYxxupX4MaeZqEJE63LD6lEdQmNx4uFS-o8L07SQ8/edit?usp=sharing'}\\nfor sheet in list(sheets.keys()):\\n    response = requests.get(sheets[sheet])\\n    with open(f'{sheet}.csv', 'wb') as csvfile:\\n        csvfile.write(response.content)\""
      ]
     },
     "execution_count": 40,
     "metadata": {},
     "output_type": "execute_result"
    }
   ],
   "source": [
    "\"\"\"import requests\n",
    "import csv\n",
    "sheets = {'sheet_1' : 'https://docs.google.com/spreadsheets/d/14HyYxxupX4MaeZqEJE63LD6lEdQmNx4uFS-o8L07SQ8/edit?usp=sharing'}\n",
    "for sheet in list(sheets.keys()):\n",
    "    response = requests.get(sheets[sheet])\n",
    "    with open(f'{sheet}.csv', 'wb') as csvfile:\n",
    "        csvfile.write(response.content)\"\"\""
   ]
  },
  {
   "cell_type": "code",
   "execution_count": 52,
   "id": "c547e6a1-2448-46b6-bfd5-60d4028319c5",
   "metadata": {},
   "outputs": [
    {
     "data": {
      "text/plain": [
       "<csv.DictReader at 0x7fdc3bdee0a0>"
      ]
     },
     "execution_count": 52,
     "metadata": {},
     "output_type": "execute_result"
    }
   ],
   "source": [
    "csv.DictReader(open('Values&Keys - Master.csv'))"
   ]
  },
  {
   "cell_type": "code",
   "execution_count": 64,
   "id": "79230efe-5967-498c-9cd3-bd5b1180ec47",
   "metadata": {},
   "outputs": [],
   "source": [
    "master_document = csv.DictReader(open('Values&Keys - Master.csv'))"
   ]
  },
  {
   "cell_type": "code",
   "execution_count": 63,
   "id": "a3b45e48-97db-459d-847b-2d9eb7f1e1e6",
   "metadata": {},
   "outputs": [],
   "source": [
    "for dictionary in master_document:\n",
    "    print (dictionary, sep='\\n')"
   ]
  },
  {
   "cell_type": "code",
   "execution_count": 67,
   "id": "0071d59e-e3fc-4983-8da4-b29dabd6bd05",
   "metadata": {},
   "outputs": [
    {
     "name": "stdout",
     "output_type": "stream",
     "text": [
      "[<csv.DictReader object at 0x7fdc3dbaf2e0>]\n"
     ]
    }
   ],
   "source": [
    "list_of_dictionaries = []\n",
    "for dictionary in master_document:\n",
    "    list_of_dictionaries.append(dictionary)\n",
    "print(list_of_dictionaries)"
   ]
  },
  {
   "cell_type": "code",
   "execution_count": 90,
   "id": "93438f30-1826-4857-bfad-7b33753d8f62",
   "metadata": {},
   "outputs": [],
   "source": [
    "tracker = []\n",
    "preguntas = []\n",
    "res_correc = []\n",
    "incorrecta1 = []\n",
    "incorrecta2 = []"
   ]
  },
  {
   "cell_type": "code",
   "execution_count": 99,
   "id": "95b87204-2de5-44cb-8b37-d9472bc62f5a",
   "metadata": {},
   "outputs": [
    {
     "ename": "KeyboardInterrupt",
     "evalue": "",
     "output_type": "error",
     "traceback": [
      "\u001b[0;31m---------------------------------------------------------------------------\u001b[0m",
      "\u001b[0;31mKeyboardInterrupt\u001b[0m                         Traceback (most recent call last)",
      "Input \u001b[0;32mIn [99]\u001b[0m, in \u001b[0;36m<cell line: 2>\u001b[0;34m()\u001b[0m\n\u001b[1;32m      4\u001b[0m     tracker\u001b[38;5;241m.\u001b[39mappend(e)\n\u001b[1;32m      5\u001b[0m \u001b[38;5;28;01mwhile\u001b[39;00m \u001b[38;5;28mlen\u001b[39m(preguntas) \u001b[38;5;241m<\u001b[39m \u001b[38;5;241m40\u001b[39m:\n\u001b[0;32m----> 6\u001b[0m     \u001b[43mtracker\u001b[49m\u001b[38;5;241;43m.\u001b[39;49m\u001b[43mappend\u001b[49m(e)\n\u001b[1;32m      7\u001b[0m \u001b[38;5;28;01mwhile\u001b[39;00m \u001b[38;5;28mlen\u001b[39m(res_correc) \u001b[38;5;241m<\u001b[39m \u001b[38;5;241m40\u001b[39m:\n\u001b[1;32m      8\u001b[0m     tracker\u001b[38;5;241m.\u001b[39mappend(e)\n",
      "\u001b[0;31mKeyboardInterrupt\u001b[0m: "
     ]
    }
   ],
   "source": [
    "prueba_document = list(csv.reader(open('Values&Keys - Master.csv')))\n",
    "for e in prueba_document:\n",
    "    while len(tracker) < 40:\n",
    "        tracker.append(e)\n",
    "    while len(preguntas) < 40:\n",
    "        tracker.append(e)\n",
    "    while len(res_correc) < 40:\n",
    "        tracker.append(e)\n",
    "    while len(incorrecta1) < 40:\n",
    "        tracker.append(e)\n",
    "    while len(incorrecta2) <40:\n",
    "        tracker.append(e)"
   ]
  },
  {
   "cell_type": "code",
   "execution_count": 101,
   "id": "4f9a5c0d-4e14-478e-8a0e-0802c881f43f",
   "metadata": {},
   "outputs": [
    {
     "name": "stdout",
     "output_type": "stream",
     "text": [
      "[]\n"
     ]
    }
   ],
   "source": [
    "preguntas_tracker = list(zip(preguntas, tracker))\n",
    "print(preguntas_tracker)"
   ]
  },
  {
   "cell_type": "code",
   "execution_count": 107,
   "id": "6d878fdb-b9bb-4dc8-b549-a3a1153b0b9c",
   "metadata": {},
   "outputs": [
    {
     "ename": "TypeError",
     "evalue": "'list' object is not callable",
     "output_type": "error",
     "traceback": [
      "\u001b[0;31m---------------------------------------------------------------------------\u001b[0m",
      "\u001b[0;31mTypeError\u001b[0m                                 Traceback (most recent call last)",
      "Input \u001b[0;32mIn [107]\u001b[0m, in \u001b[0;36m<cell line: 6>\u001b[0;34m()\u001b[0m\n\u001b[1;32m      4\u001b[0m incorrecta1 \u001b[38;5;241m=\u001b[39m []\n\u001b[1;32m      5\u001b[0m incorrecta2 \u001b[38;5;241m=\u001b[39m []\n\u001b[0;32m----> 6\u001b[0m prueba_document \u001b[38;5;241m=\u001b[39m \u001b[38;5;28;43mlist\u001b[39;49m\u001b[43m(\u001b[49m\u001b[43mcsv\u001b[49m\u001b[38;5;241;43m.\u001b[39;49m\u001b[43mreader\u001b[49m\u001b[43m(\u001b[49m\u001b[38;5;28;43mopen\u001b[39;49m\u001b[43m(\u001b[49m\u001b[38;5;124;43m'\u001b[39;49m\u001b[38;5;124;43mValues&Keys - Master.csv\u001b[39;49m\u001b[38;5;124;43m'\u001b[39;49m\u001b[43m,\u001b[49m\u001b[38;5;124;43m'\u001b[39;49m\u001b[38;5;124;43mr\u001b[39;49m\u001b[38;5;124;43m'\u001b[39;49m\u001b[43m)\u001b[49m\u001b[43m)\u001b[49m\u001b[43m)\u001b[49m\n\u001b[1;32m      7\u001b[0m \u001b[38;5;28;01mfor\u001b[39;00m lista \u001b[38;5;129;01min\u001b[39;00m prueba_document:\n\u001b[1;32m      8\u001b[0m     \u001b[38;5;28;01mif\u001b[39;00m tracker :\n",
      "\u001b[0;31mTypeError\u001b[0m: 'list' object is not callable"
     ]
    }
   ],
   "source": [
    "tracker = []\n",
    "preguntas = []\n",
    "res_correc = []\n",
    "incorrecta1 = []\n",
    "incorrecta2 = []\n",
    "prueba_document = list(csv.reader(open('Values&Keys - Master.csv','r')))\n",
    "for lista in prueba_document:\n",
    "    if tracker :\n",
    "        tracker.extend(lista)\n",
    "print(prueba_document)\n",
    "print(tracker)"
   ]
  }
 ],
 "metadata": {
  "kernelspec": {
   "display_name": "Python 3 (ipykernel)",
   "language": "python",
   "name": "python3"
  },
  "language_info": {
   "codemirror_mode": {
    "name": "ipython",
    "version": 3
   },
   "file_extension": ".py",
   "mimetype": "text/x-python",
   "name": "python",
   "nbconvert_exporter": "python",
   "pygments_lexer": "ipython3",
   "version": "3.9.12"
  }
 },
 "nbformat": 4,
 "nbformat_minor": 5
}
